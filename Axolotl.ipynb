{
  "cells": [
    {
      "cell_type": "code",
      "execution_count": null,
      "metadata": {
        "id": "cGlwQ9hyaqXe",
        "scrolled": true
      },
      "outputs": [],
      "source": [
        "!git clone https://github.com/OpenAccess-AI-Collective/axolotl\n",
        "%cd ./axolotl\n",
        "!pip3 install packaging ninja\n",
        "!pip3 install -e '.[flash-attn,deepspeed]'\n",
        "!pip install huggingface_hub\n",
        "%cd .."
      ]
    },
    {
      "cell_type": "code",
      "execution_count": null,
      "metadata": {
        "id": "p_1zIh0udU66"
      },
      "outputs": [],
      "source": [
        "# Login to hub\n",
        "from huggingface_hub import notebook_login\n",
        "notebook_login()"
      ]
    },
    {
      "cell_type": "code",
      "execution_count": null,
      "metadata": {
        "id": "Xp79ncbK4aGJ"
      },
      "outputs": [],
      "source": [
        "# Installation of HF Transfer for faster download\n",
        "!pip install hf_transfer\n",
        "!export HF_HUB_ENABLE_HF_TRANSFER=1"
      ]
    },
    {
      "cell_type": "code",
      "execution_count": null,
      "metadata": {
        "id": "Vhz2zfayUCeq",
        "scrolled": true
      },
      "outputs": [],
      "source": [
        "!accelerate launch -m axolotl.cli.train qlora-conf.yml"
      ]
    },
    {
      "cell_type": "code",
      "execution_count": null,
      "metadata": {
        "id": "KXPuJKia24Am"
      },
      "outputs": [],
      "source": [
        "# Upload to hub\n",
        "from huggingface_hub import HfApi\n",
        "api = HfApi()\n",
        "api.upload_folder(\n",
        "    folder_path=\"./lora-out\",\n",
        "    repo_id=\"Name/Repo\",\n",
        ")"
      ]
    }
  ],
  "metadata": {
    "accelerator": "GPU",
    "colab": {
      "gpuType": "A100",
      "machine_shape": "hm",
      "provenance": []
    },
    "kernelspec": {
      "display_name": "Python 3 (ipykernel)",
      "language": "python",
      "name": "python3"
    },
    "language_info": {
      "codemirror_mode": {
        "name": "ipython",
        "version": 3
      },
      "file_extension": ".py",
      "mimetype": "text/x-python",
      "name": "python",
      "nbconvert_exporter": "python",
      "pygments_lexer": "ipython3",
      "version": "3.10.12"
    }
  },
  "nbformat": 4,
  "nbformat_minor": 0
}
